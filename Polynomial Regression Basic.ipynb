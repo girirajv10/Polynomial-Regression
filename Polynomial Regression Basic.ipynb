{
 "cells": [
  {
   "cell_type": "markdown",
   "metadata": {},
   "source": [
    "# Polynomial Regression Basics\n",
    "# By Giriraj Vaishnav"
   ]
  },
  {
   "cell_type": "code",
   "execution_count": 1,
   "metadata": {},
   "outputs": [],
   "source": [
    "# Import packages and classes\n",
    "\n",
    "import numpy as np\n",
    "import matplotlib.pyplot as plt\n",
    "from sklearn.linear_model import LinearRegression\n",
    "from sklearn.preprocessing import PolynomialFeatures"
   ]
  },
  {
   "cell_type": "code",
   "execution_count": 2,
   "metadata": {},
   "outputs": [],
   "source": [
    "# Provide Data\n",
    "\n",
    "X = np.array([5, 15, 25, 35, 45, 55]).reshape((-1, 1))\n",
    "y = np.array([15, 11, 2, 8, 25, 32])"
   ]
  },
  {
   "cell_type": "code",
   "execution_count": 3,
   "metadata": {},
   "outputs": [
    {
     "data": {
      "text/plain": [
       "LinearRegression()"
      ]
     },
     "execution_count": 3,
     "metadata": {},
     "output_type": "execute_result"
    }
   ],
   "source": [
    "# Transform input data\n",
    "\n",
    "poly_reg = PolynomialFeatures(degree=2, include_bias=False)\n",
    "x_poly = poly_reg.fit_transform(X)"
   ]
  },
  {
   "cell_type": "code",
   "execution_count": 4,
   "metadata": {},
   "outputs": [
    {
     "data": {
      "text/plain": [
       "LinearRegression()"
      ]
     },
     "execution_count": 4,
     "metadata": {},
     "output_type": "execute_result"
    }
   ],
   "source": [
    "# Create a model and fit it\n",
    "  \n",
    "poly_lin_reg = LinearRegression()  \n",
    "poly_lin_reg.fit(x_poly, y) "
   ]
  },
  {
   "cell_type": "code",
   "execution_count": 5,
   "metadata": {},
   "outputs": [
    {
     "data": {
      "text/plain": [
       "Text(0.5, 1.0, 'Position Level vs. Salary')"
      ]
     },
     "execution_count": 5,
     "metadata": {},
     "output_type": "execute_result"
    },
    {
     "data": {
      "image/png": "[encoded data removed]",
      "text/plain": [
       "<Figure size 432x288 with 1 Axes>"
      ]
     },
     "metadata": {
      "needs_background": "light"
     },
     "output_type": "display_data"
    }
   ],
   "source": [
    "# Scatter plot for Polynomial Regression\n",
    "\n",
    "plt.scatter(X,y,color='blue')\n",
    "plt.plot(X,lin_reg_2.predict(poly_reg.fit_transform(X)),color='red')\n",
    "plt.ylabel('Position Level')\n",
    "plt.xlabel('Salary [$]')\n",
    "plt.title('Position Level vs. Salary')"
   ]
  },
  {
   "cell_type": "code",
   "execution_count": 7,
   "metadata": {},
   "outputs": [
    {
     "name": "stdout",
     "output_type": "stream",
     "text": [
      "coefficient of determination: 0.8908516262498563\n",
      "intercept: 21.372321428571453\n",
      "coefficients: [-1.32357143  0.02839286]\n"
     ]
    }
   ],
   "source": [
    "# Get Results\n",
    "\n",
    "r_sq = poly_lin_reg.score(x_poly, y)\n",
    "print('coefficient of determination:', r_sq)\n",
    "print('intercept:', poly_lin_reg.intercept_)\n",
    "print('coefficients:', poly_lin_reg.coef_)"
   ]
  },
  {
   "cell_type": "code",
   "execution_count": 8,
   "metadata": {},
   "outputs": [
    {
     "name": "stdout",
     "output_type": "stream",
     "text": [
      "---------5---------\n",
      "[15.46428571]\n",
      "--------30----------\n",
      "[7.21875]\n",
      "--------50----------\n",
      "[26.17589286]\n"
     ]
    }
   ],
   "source": [
    "# Predict Responses\n",
    "\n",
    "print('---------5---------')\n",
    "x1 = 5\n",
    "y1 = poly_lin_reg.predict(poly_reg.fit_transform([[x1]]))\n",
    "print(y1)\n",
    "print('--------30----------')\n",
    "x2 = 30\n",
    "y2 = poly_lin_reg.predict(poly_reg.fit_transform([[x2]]))\n",
    "print(y2)\n",
    "print('--------50----------')\n",
    "x3 = 50\n",
    "y3 = poly_lin_reg.predict(poly_reg.fit_transform([[x3]]))\n",
    "print(y3)"
   ]
  }
 ],
 "metadata": {
  "kernelspec": {
   "display_name": "Python 3",
   "language": "python",
   "name": "python3"
  },
  "language_info": {
   "codemirror_mode": {
    "name": "ipython",
    "version": 3
   },
   "file_extension": ".py",
   "mimetype": "text/x-python",
   "name": "python",
   "nbconvert_exporter": "python",
   "pygments_lexer": "ipython3",
   "version": "3.8.3"
  }
 },
 "nbformat": 4,
 "nbformat_minor": 4
}
